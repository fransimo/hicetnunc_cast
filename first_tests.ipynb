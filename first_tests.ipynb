{
 "cells": [
  {
   "cell_type": "markdown",
   "id": "funny-sunset",
   "metadata": {},
   "source": [
    "# Imports"
   ]
  },
  {
   "cell_type": "code",
   "execution_count": 1,
   "id": "cutting-compilation",
   "metadata": {
    "tags": []
   },
   "outputs": [],
   "source": [
    "# !pip install pychromecast requests"
   ]
  },
  {
   "cell_type": "code",
   "execution_count": 2,
   "id": "hungarian-snapshot",
   "metadata": {},
   "outputs": [],
   "source": [
    "import time\n",
    "import pychromecast  \n",
    "import requests"
   ]
  },
  {
   "cell_type": "markdown",
   "id": "empirical-danish",
   "metadata": {},
   "source": [
    "# Customization"
   ]
  },
  {
   "cell_type": "code",
   "execution_count": 3,
   "id": "level-winner",
   "metadata": {},
   "outputs": [],
   "source": [
    "# Copy your tez address\n",
    "account = 'tz1g5vtDkWdG7CYuQrnHgoSCrWoxM91bSpHW'\n",
    "\n",
    "# Your chromecast name\n",
    "chorme_cast_name = \"Living Room TV 2\""
   ]
  },
  {
   "cell_type": "markdown",
   "id": "juvenile-bruce",
   "metadata": {},
   "source": [
    "# Get gallery"
   ]
  },
  {
   "cell_type": "code",
   "execution_count": 4,
   "id": "advanced-tobago",
   "metadata": {},
   "outputs": [],
   "source": [
    "url = f'https://51rknuvw76.execute-api.us-east-1.amazonaws.com/dev/tz?tz={account}' # todo: don't use a hard coded URI\n",
    "\n",
    "r = requests.get(url = url)"
   ]
  },
  {
   "cell_type": "code",
   "execution_count": 5,
   "id": "circular-schema",
   "metadata": {},
   "outputs": [
    {
     "data": {
      "text/plain": [
       "[['https://cloudflare-ipfs.com/ipfs/QmNfLuvxPYJ3rD3iczo5JQC1dPkeoYrujQozPKqmssJAK2',\n",
       "  'image/png'],\n",
       " ['https://cloudflare-ipfs.com/ipfs/QmdHYyZz8gsepiPCvyDS3TFqCb7PMpC6skJsrQL7uc92Lm',\n",
       "  'video/mp4'],\n",
       " ['https://cloudflare-ipfs.com/ipfs/QmXZYvfJi2tCHk5zU31Wr18k8VdQmYcQCZNyJWJJzPkexD',\n",
       "  'image/jpeg'],\n",
       " ['https://cloudflare-ipfs.com/ipfs/QmbSU79NTWM57hmamU85143SefzjkVusfuyda8qmyW6RPz',\n",
       "  'video/mp4'],\n",
       " ['https://cloudflare-ipfs.com/ipfs/QmVVE5kiviLwu7ZJfVfbkz82vC9YahmQ3HAueVYUiZjyo8',\n",
       "  'application/pdf'],\n",
       " ['https://cloudflare-ipfs.com/ipfs/QmUcyDSPj194tY4zuDWrFNPB3SUvRXxVnxG6JUrXtLdj7c',\n",
       "  'image/gif'],\n",
       " ['https://cloudflare-ipfs.com/ipfs/QmRq6q8kAZeqMyD8Dgd3JfLUVHVbwVFFu5EzckhAf8fHhH',\n",
       "  'image/jpeg'],\n",
       " ['https://cloudflare-ipfs.com/ipfs/Qmd7XYYbGhoXQ8bGuZpkcjXiydYGJdtmJoGQSvbzuLHVPw',\n",
       "  'image/jpeg'],\n",
       " ['https://cloudflare-ipfs.com/ipfs/QmTqKKi6PvxppWn9WYSj47aoNJ2XoJt1Eq2Bo6j4MeLtC1',\n",
       "  'image/jpeg'],\n",
       " ['https://cloudflare-ipfs.com/ipfs/QmfRVKZddYXg15Ff9Dzw75MiHTSj76wSr545g8RzsdGxRG',\n",
       "  'image/png'],\n",
       " ['https://cloudflare-ipfs.com/ipfs/QmcwdGE5c7PDvwW8Dt3uTHYNtMFSuR2k6Q6vYCLrfFrioV',\n",
       "  'image/jpeg'],\n",
       " ['https://cloudflare-ipfs.com/ipfs/QmXCNaBjF9GQLHP7TApA1dCYBSzwgsL1gCAb7bqqEbCPDR',\n",
       "  'image/jpeg'],\n",
       " ['https://cloudflare-ipfs.com/ipfs/QmW7uAXgpaQ8KRtjnP3r3rCoafv9XgHQ49c3o256xD5c4g',\n",
       "  'image/png'],\n",
       " ['https://cloudflare-ipfs.com/ipfs/QmP7jf2xUPGWLR3NDCJG373JnBfSj6m3qAeCZQB9sp1kY5',\n",
       "  'image/jpeg'],\n",
       " ['https://cloudflare-ipfs.com/ipfs/QmTg4MDkqdQzifKfU3zPWJcfxiC3ZSL96C7pTta6f8B9YJ',\n",
       "  'video/webm'],\n",
       " ['https://cloudflare-ipfs.com/ipfs/QmNevvPTT1knm4rx8csHSC6ACRtFQ2i2i97Ybe3pBXKi8b',\n",
       "  'image/png'],\n",
       " ['https://cloudflare-ipfs.com/ipfs/Qme4BTR4Bj27abAFJxAA7xPhLvUMQe5Wz1Mg8Ho3y11M48',\n",
       "  'image/jpeg'],\n",
       " ['https://cloudflare-ipfs.com/ipfs/QmQttLpU7M5gjD6sLBoHCFewhdtv8bfHwCZaMgaQbcdjhP',\n",
       "  'image/png'],\n",
       " ['https://cloudflare-ipfs.com/ipfs/QmQJUTjsRCepC29BMY6Tw29b2zZYLcHnSxDewBQyNyTMri',\n",
       "  'image/png'],\n",
       " ['https://cloudflare-ipfs.com/ipfs/QmPaEhvQW8uLMNXSyzWGTQFmWQ6fGp6igULKfXGvSLWWom',\n",
       "  'application/x-directory'],\n",
       " ['https://cloudflare-ipfs.com/ipfs/QmbfCZusAxtzS4gTEKK2QRZQk3yEjYZiD6zu2yehM5w3pe',\n",
       "  'image/jpeg'],\n",
       " ['https://cloudflare-ipfs.com/ipfs/QmX6dndq1ow948b2MwmtAsdC1wqRYeMvJy2rzDcDTM7h84',\n",
       "  'image/png'],\n",
       " ['https://cloudflare-ipfs.com/ipfs/QmVLEnbf2PLzFKZJQeMZbsymg6Q5vYzh9Mc42GggXszN9E',\n",
       "  'image/png'],\n",
       " ['https://cloudflare-ipfs.com/ipfs/Qme9a51A31xoPR5tExw19QyxSipVdDdAmBXVXicH6gSozX',\n",
       "  'image/gif']]"
      ]
     },
     "execution_count": 5,
     "metadata": {},
     "output_type": "execute_result"
    }
   ],
   "source": [
    "j = r.json()\n",
    "media = []\n",
    "\n",
    "for e in j['result']:\n",
    "    try:\n",
    "        uri = 'https://cloudflare-ipfs.com/ipfs/' + e['token_info']['artifactUri'].split('//')[1]\n",
    "        media_type = e['token_info']['formats'][0]['mimeType']\n",
    "        media.append([uri,media_type])\n",
    "    except:\n",
    "        print(\"error\")\n",
    "        \n",
    "media  "
   ]
  },
  {
   "cell_type": "markdown",
   "id": "proof-archives",
   "metadata": {},
   "source": [
    "# Connect with Chromecast"
   ]
  },
  {
   "cell_type": "code",
   "execution_count": 6,
   "id": "unable-morocco",
   "metadata": {
    "tags": []
   },
   "outputs": [],
   "source": [
    "# List chromecasts on the network, but don't connect\n",
    "services, browser = pychromecast.discovery.discover_chromecasts()"
   ]
  },
  {
   "cell_type": "code",
   "execution_count": 7,
   "id": "selected-bridges",
   "metadata": {},
   "outputs": [],
   "source": [
    "# Discover and connect to chromecasts named Living Room\n",
    "chromecasts, browser = pychromecast.get_listed_chromecasts(friendly_names=[chorme_cast_name])"
   ]
  },
  {
   "cell_type": "code",
   "execution_count": 8,
   "id": "impressive-philip",
   "metadata": {},
   "outputs": [
    {
     "name": "stdout",
     "output_type": "stream",
     "text": [
      "DeviceStatus(friendly_name='Living Room TV 2', model_name='Chromecast', manufacturer='Google Inc.', uuid=UUID('91b6ece4-baab-20cb-8137-8275bfc243c1'), cast_type='cast')\n"
     ]
    }
   ],
   "source": [
    "cast = chromecasts[0]\n",
    "# Start worker thread and wait for cast device to be ready\n",
    "cast.wait()\n",
    "print(cast.device)"
   ]
  },
  {
   "cell_type": "code",
   "execution_count": 9,
   "id": "handy-porcelain",
   "metadata": {},
   "outputs": [],
   "source": [
    "mc = cast.media_controller"
   ]
  },
  {
   "cell_type": "code",
   "execution_count": 10,
   "id": "qualified-replacement",
   "metadata": {},
   "outputs": [],
   "source": [
    "def play_media(mc, uri, media_type):\n",
    "    mc = cast.media_controller\n",
    "\n",
    "    mc.play_media(uri, media_type)\n",
    "    mc.block_until_active()"
   ]
  },
  {
   "cell_type": "markdown",
   "id": "ignored-retrieval",
   "metadata": {},
   "source": [
    "# Play media"
   ]
  },
  {
   "cell_type": "code",
   "execution_count": null,
   "id": "cleared-knight",
   "metadata": {},
   "outputs": [],
   "source": [
    "while True:\n",
    "    for m in media:\n",
    "        # print(m)\n",
    "        if m[1].split('/')[0] == 'image':\n",
    "            play_media(mc, m[0], m[1])\n",
    "            time.sleep(30)"
   ]
  },
  {
   "cell_type": "code",
   "execution_count": null,
   "id": "about-interface",
   "metadata": {},
   "outputs": [],
   "source": []
  }
 ],
 "metadata": {
  "kernelspec": {
   "display_name": "Python 3",
   "language": "python",
   "name": "python3"
  },
  "language_info": {
   "codemirror_mode": {
    "name": "ipython",
    "version": 3
   },
   "file_extension": ".py",
   "mimetype": "text/x-python",
   "name": "python",
   "nbconvert_exporter": "python",
   "pygments_lexer": "ipython3",
   "version": "3.7.3"
  }
 },
 "nbformat": 4,
 "nbformat_minor": 5
}
