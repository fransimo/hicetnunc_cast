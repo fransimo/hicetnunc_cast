{
 "cells": [
  {
   "cell_type": "markdown",
   "id": "developed-wholesale",
   "metadata": {},
   "source": [
    "# Imports"
   ]
  },
  {
   "cell_type": "code",
   "execution_count": null,
   "id": "failing-marine",
   "metadata": {
    "tags": []
   },
   "outputs": [],
   "source": [
    "# !pip install pychromecast requests"
   ]
  },
  {
   "cell_type": "code",
   "execution_count": null,
   "id": "gothic-heart",
   "metadata": {},
   "outputs": [],
   "source": [
    "import time\n",
    "import pychromecast  \n",
    "import requests"
   ]
  },
  {
   "cell_type": "markdown",
   "id": "million-genius",
   "metadata": {},
   "source": [
    "# Customization"
   ]
  },
  {
   "cell_type": "code",
   "execution_count": null,
   "id": "numerous-hotel",
   "metadata": {},
   "outputs": [],
   "source": [
    "account = 'tz1g5vtDkWdG7CYuQrnHgoSCrWoxM91bSpHW'\n",
    "\n",
    "chorme_cast_names = [\"Living Room TV 2\"]"
   ]
  },
  {
   "cell_type": "markdown",
   "id": "wrapped-beverage",
   "metadata": {},
   "source": [
    "# Get gallery"
   ]
  },
  {
   "cell_type": "code",
   "execution_count": null,
   "id": "fifty-patient",
   "metadata": {},
   "outputs": [],
   "source": [
    "url = f'https://51rknuvw76.execute-api.us-east-1.amazonaws.com/dev/tz?tz={account}'\n",
    "\n",
    "r = requests.get(url = url)"
   ]
  },
  {
   "cell_type": "code",
   "execution_count": null,
   "id": "demographic-victorian",
   "metadata": {},
   "outputs": [],
   "source": [
    "j = r.json()\n",
    "media = []\n",
    "\n",
    "for e in j['result']:\n",
    "    try:\n",
    "        uri = 'https://cloudflare-ipfs.com/ipfs/' + e['token_info']['artifactUri'].split('//')[1]\n",
    "        media_type = e['token_info']['formats'][0]['mimeType']\n",
    "        media.append([uri,media_type])\n",
    "    except:\n",
    "        print(\"error\")\n",
    "        \n",
    "media  "
   ]
  },
  {
   "cell_type": "markdown",
   "id": "stylish-checkout",
   "metadata": {},
   "source": [
    "# Connect with Chromecast"
   ]
  },
  {
   "cell_type": "code",
   "execution_count": null,
   "id": "parental-nothing",
   "metadata": {
    "tags": []
   },
   "outputs": [],
   "source": [
    "# List chromecasts on the network, but don't connect\n",
    "services, browser = pychromecast.discovery.discover_chromecasts()"
   ]
  },
  {
   "cell_type": "code",
   "execution_count": null,
   "id": "provincial-constitutional",
   "metadata": {},
   "outputs": [],
   "source": [
    "# Discover and connect to chromecasts named Living Room\n",
    "chromecasts, browser = pychromecast.get_listed_chromecasts(friendly_names=chorme_cast_names)"
   ]
  },
  {
   "cell_type": "code",
   "execution_count": null,
   "id": "falling-supplement",
   "metadata": {},
   "outputs": [],
   "source": [
    "cast = chromecasts[0]\n",
    "# Start worker thread and wait for cast device to be ready\n",
    "cast.wait()\n",
    "print(cast.device)"
   ]
  },
  {
   "cell_type": "code",
   "execution_count": null,
   "id": "distant-insured",
   "metadata": {},
   "outputs": [],
   "source": [
    "mc = cast.media_controller"
   ]
  },
  {
   "cell_type": "code",
   "execution_count": null,
   "id": "adequate-panel",
   "metadata": {},
   "outputs": [],
   "source": [
    "def play_media(mc, uri, media_type):\n",
    "    mc = cast.media_controller\n",
    "\n",
    "    mc.play_media(uri, media_type)\n",
    "    mc.block_until_active()"
   ]
  },
  {
   "cell_type": "markdown",
   "id": "warming-confidentiality",
   "metadata": {},
   "source": [
    "# Play media"
   ]
  },
  {
   "cell_type": "code",
   "execution_count": null,
   "id": "fitting-button",
   "metadata": {},
   "outputs": [],
   "source": [
    "while True:\n",
    "    for m in media:\n",
    "        # print(m)\n",
    "        if m[1].split('/')[0] == 'image':\n",
    "            play_media(mc, m[0], m[1])\n",
    "            time.sleep(30)"
   ]
  },
  {
   "cell_type": "code",
   "execution_count": null,
   "id": "guilty-content",
   "metadata": {},
   "outputs": [],
   "source": []
  }
 ],
 "metadata": {
  "kernelspec": {
   "display_name": "Python 3",
   "language": "python",
   "name": "python3"
  },
  "language_info": {
   "codemirror_mode": {
    "name": "ipython",
    "version": 3
   },
   "file_extension": ".py",
   "mimetype": "text/x-python",
   "name": "python",
   "nbconvert_exporter": "python",
   "pygments_lexer": "ipython3",
   "version": "3.7.3"
  }
 },
 "nbformat": 4,
 "nbformat_minor": 5
}
